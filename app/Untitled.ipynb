{
 "cells": [
  {
   "cell_type": "code",
   "execution_count": 6,
   "id": "d9abaf4e",
   "metadata": {},
   "outputs": [
    {
     "name": "stdout",
     "output_type": "stream",
     "text": [
      "Requirement already satisfied: web3 in c:\\users\\admin\\anaconda3\\lib\\site-packages (6.5.0)\n",
      "Requirement already satisfied: jsonschema>=4.0.0 in c:\\users\\admin\\anaconda3\\lib\\site-packages (from web3) (4.4.0)\n",
      "Requirement already satisfied: eth-account>=0.8.0 in c:\\users\\admin\\anaconda3\\lib\\site-packages (from web3) (0.9.0)\n",
      "Requirement already satisfied: requests>=2.16.0 in c:\\users\\admin\\anaconda3\\lib\\site-packages (from web3) (2.27.1)\n",
      "Requirement already satisfied: pywin32>=223 in c:\\users\\admin\\anaconda3\\lib\\site-packages (from web3) (302)\n",
      "Requirement already satisfied: eth-abi>=4.0.0 in c:\\users\\admin\\anaconda3\\lib\\site-packages (from web3) (4.1.0)\n",
      "Requirement already satisfied: hexbytes>=0.1.0 in c:\\users\\admin\\anaconda3\\lib\\site-packages (from web3) (0.3.1)\n",
      "Requirement already satisfied: aiohttp>=3.7.4.post0 in c:\\users\\admin\\anaconda3\\lib\\site-packages (from web3) (3.8.1)\n",
      "Requirement already satisfied: eth-hash[pycryptodome]>=0.5.1 in c:\\users\\admin\\anaconda3\\lib\\site-packages (from web3) (0.5.2)\n",
      "Requirement already satisfied: lru-dict>=1.1.6 in c:\\users\\admin\\anaconda3\\lib\\site-packages (from web3) (1.2.0)\n",
      "Requirement already satisfied: protobuf>=4.21.6 in c:\\users\\admin\\anaconda3\\lib\\site-packages (from web3) (4.23.4)\n",
      "Requirement already satisfied: eth-utils>=2.1.0 in c:\\users\\admin\\anaconda3\\lib\\site-packages (from web3) (2.2.0)\n",
      "Requirement already satisfied: eth-typing>=3.0.0 in c:\\users\\admin\\anaconda3\\lib\\site-packages (from web3) (3.4.0)\n",
      "Requirement already satisfied: websockets>=10.0.0 in c:\\users\\admin\\anaconda3\\lib\\site-packages (from web3) (11.0.3)\n",
      "Requirement already satisfied: attrs>=17.3.0 in c:\\users\\admin\\anaconda3\\lib\\site-packages (from aiohttp>=3.7.4.post0->web3) (21.4.0)\n",
      "Requirement already satisfied: aiosignal>=1.1.2 in c:\\users\\admin\\anaconda3\\lib\\site-packages (from aiohttp>=3.7.4.post0->web3) (1.2.0)\n",
      "Requirement already satisfied: charset-normalizer<3.0,>=2.0 in c:\\users\\admin\\anaconda3\\lib\\site-packages (from aiohttp>=3.7.4.post0->web3) (2.0.4)\n",
      "Requirement already satisfied: multidict<7.0,>=4.5 in c:\\users\\admin\\anaconda3\\lib\\site-packages (from aiohttp>=3.7.4.post0->web3) (5.1.0)\n",
      "Requirement already satisfied: yarl<2.0,>=1.0 in c:\\users\\admin\\anaconda3\\lib\\site-packages (from aiohttp>=3.7.4.post0->web3) (1.6.3)\n",
      "Requirement already satisfied: frozenlist>=1.1.1 in c:\\users\\admin\\anaconda3\\lib\\site-packages (from aiohttp>=3.7.4.post0->web3) (1.2.0)\n",
      "Requirement already satisfied: async-timeout<5.0,>=4.0.0a3 in c:\\users\\admin\\anaconda3\\lib\\site-packages (from aiohttp>=3.7.4.post0->web3) (4.0.1)\n",
      "Requirement already satisfied: typing-extensions>=3.6.5 in c:\\users\\admin\\anaconda3\\lib\\site-packages (from async-timeout<5.0,>=4.0.0a3->aiohttp>=3.7.4.post0->web3) (4.1.1)\n",
      "Requirement already satisfied: parsimonious<0.10.0,>=0.9.0 in c:\\users\\admin\\anaconda3\\lib\\site-packages (from eth-abi>=4.0.0->web3) (0.9.0)\n",
      "Requirement already satisfied: bitarray>=2.4.0 in c:\\users\\admin\\anaconda3\\lib\\site-packages (from eth-account>=0.8.0->web3) (2.4.1)\n",
      "Requirement already satisfied: rlp>=1.0.0 in c:\\users\\admin\\anaconda3\\lib\\site-packages (from eth-account>=0.8.0->web3) (3.0.0)\n",
      "Requirement already satisfied: eth-rlp>=0.3.0 in c:\\users\\admin\\anaconda3\\lib\\site-packages (from eth-account>=0.8.0->web3) (0.3.0)\n",
      "Requirement already satisfied: eth-keys>=0.4.0 in c:\\users\\admin\\anaconda3\\lib\\site-packages (from eth-account>=0.8.0->web3) (0.4.0)\n",
      "Requirement already satisfied: eth-keyfile>=0.6.0 in c:\\users\\admin\\anaconda3\\lib\\site-packages (from eth-account>=0.8.0->web3) (0.6.1)\n",
      "Requirement already satisfied: pycryptodome<4,>=3.6.6 in c:\\users\\admin\\anaconda3\\lib\\site-packages (from eth-hash[pycryptodome]>=0.5.1->web3) (3.18.0)\n",
      "Requirement already satisfied: cytoolz>=0.10.1 in c:\\users\\admin\\anaconda3\\lib\\site-packages (from eth-utils>=2.1.0->web3) (0.11.0)\n",
      "Requirement already satisfied: toolz>=0.8.0 in c:\\users\\admin\\anaconda3\\lib\\site-packages (from cytoolz>=0.10.1->eth-utils>=2.1.0->web3) (0.11.2)\n",
      "Requirement already satisfied: pyrsistent!=0.17.0,!=0.17.1,!=0.17.2,>=0.14.0 in c:\\users\\admin\\anaconda3\\lib\\site-packages (from jsonschema>=4.0.0->web3) (0.18.0)\n",
      "Requirement already satisfied: regex>=2022.3.15 in c:\\users\\admin\\anaconda3\\lib\\site-packages (from parsimonious<0.10.0,>=0.9.0->eth-abi>=4.0.0->web3) (2022.3.15)\n",
      "Requirement already satisfied: urllib3<1.27,>=1.21.1 in c:\\users\\admin\\anaconda3\\lib\\site-packages (from requests>=2.16.0->web3) (1.26.9)\n",
      "Requirement already satisfied: idna<4,>=2.5 in c:\\users\\admin\\anaconda3\\lib\\site-packages (from requests>=2.16.0->web3) (3.3)\n",
      "Requirement already satisfied: certifi>=2017.4.17 in c:\\users\\admin\\anaconda3\\lib\\site-packages (from requests>=2.16.0->web3) (2021.10.8)\n"
     ]
    }
   ],
   "source": [
    "!pip install web3"
   ]
  },
  {
   "cell_type": "code",
   "execution_count": 8,
   "id": "c3a659c9",
   "metadata": {},
   "outputs": [
    {
     "name": "stdout",
     "output_type": "stream",
     "text": [
      "Requirement already satisfied: protobuf in c:\\users\\admin\\anaconda3\\lib\\site-packages (4.23.4)\n"
     ]
    }
   ],
   "source": [
    "!pip install protobuf --upgrade"
   ]
  },
  {
   "cell_type": "code",
   "execution_count": null,
   "id": "0474124f",
   "metadata": {},
   "outputs": [],
   "source": [
    "!conda create --name myenv\n",
    "!conda activate myenv\n",
    "!pip install web3"
   ]
  },
  {
   "cell_type": "code",
   "execution_count": 9,
   "id": "01483f93",
   "metadata": {},
   "outputs": [
    {
     "ename": "ContextualVersionConflict",
     "evalue": "(protobuf 3.19.1 (c:\\users\\admin\\anaconda3\\lib\\site-packages), Requirement.parse('protobuf>=4.21.6'), {'web3'})",
     "output_type": "error",
     "traceback": [
      "\u001b[1;31m---------------------------------------------------------------------------\u001b[0m",
      "\u001b[1;31mContextualVersionConflict\u001b[0m                 Traceback (most recent call last)",
      "Input \u001b[1;32mIn [9]\u001b[0m, in \u001b[0;36m<cell line: 3>\u001b[1;34m()\u001b[0m\n\u001b[0;32m      1\u001b[0m \u001b[38;5;28;01mimport\u001b[39;00m \u001b[38;5;21;01mos\u001b[39;00m\n\u001b[0;32m      2\u001b[0m \u001b[38;5;28;01mimport\u001b[39;00m \u001b[38;5;21;01mjson\u001b[39;00m\n\u001b[1;32m----> 3\u001b[0m \u001b[38;5;28;01mfrom\u001b[39;00m \u001b[38;5;21;01mweb3\u001b[39;00m \u001b[38;5;28;01mimport\u001b[39;00m Web3\n\u001b[0;32m      4\u001b[0m \u001b[38;5;28;01mfrom\u001b[39;00m \u001b[38;5;21;01mdotenv\u001b[39;00m \u001b[38;5;28;01mimport\u001b[39;00m load_dotenv\n",
      "File \u001b[1;32m~\\anaconda3\\lib\\site-packages\\web3\\__init__.py:24\u001b[0m, in \u001b[0;36m<module>\u001b[1;34m\u001b[0m\n\u001b[0;32m     17\u001b[0m \u001b[38;5;28;01mfrom\u001b[39;00m \u001b[38;5;21;01mweb3\u001b[39;00m\u001b[38;5;21;01m.\u001b[39;00m\u001b[38;5;21;01mproviders\u001b[39;00m\u001b[38;5;21;01m.\u001b[39;00m\u001b[38;5;21;01mrpc\u001b[39;00m \u001b[38;5;28;01mimport\u001b[39;00m (  \u001b[38;5;66;03m# noqa: E402\u001b[39;00m\n\u001b[0;32m     18\u001b[0m     HTTPProvider,\n\u001b[0;32m     19\u001b[0m )\n\u001b[0;32m     20\u001b[0m \u001b[38;5;28;01mfrom\u001b[39;00m \u001b[38;5;21;01mweb3\u001b[39;00m\u001b[38;5;21;01m.\u001b[39;00m\u001b[38;5;21;01mproviders\u001b[39;00m\u001b[38;5;21;01m.\u001b[39;00m\u001b[38;5;21;01mwebsocket\u001b[39;00m \u001b[38;5;28;01mimport\u001b[39;00m (  \u001b[38;5;66;03m# noqa: E402\u001b[39;00m\n\u001b[0;32m     21\u001b[0m     WebsocketProvider,\n\u001b[0;32m     22\u001b[0m )\n\u001b[1;32m---> 24\u001b[0m __version__ \u001b[38;5;241m=\u001b[39m \u001b[43mpkg_resources\u001b[49m\u001b[38;5;241;43m.\u001b[39;49m\u001b[43mget_distribution\u001b[49m\u001b[43m(\u001b[49m\u001b[38;5;124;43m\"\u001b[39;49m\u001b[38;5;124;43mweb3\u001b[39;49m\u001b[38;5;124;43m\"\u001b[39;49m\u001b[43m)\u001b[49m\u001b[38;5;241m.\u001b[39mversion\n\u001b[0;32m     26\u001b[0m __all__ \u001b[38;5;241m=\u001b[39m [\n\u001b[0;32m     27\u001b[0m     \u001b[38;5;124m\"\u001b[39m\u001b[38;5;124m__version__\u001b[39m\u001b[38;5;124m\"\u001b[39m,\n\u001b[0;32m     28\u001b[0m     \u001b[38;5;124m\"\u001b[39m\u001b[38;5;124mAsyncWeb3\u001b[39m\u001b[38;5;124m\"\u001b[39m,\n\u001b[1;32m   (...)\u001b[0m\n\u001b[0;32m     35\u001b[0m     \u001b[38;5;124m\"\u001b[39m\u001b[38;5;124mAsyncHTTPProvider\u001b[39m\u001b[38;5;124m\"\u001b[39m,\n\u001b[0;32m     36\u001b[0m ]\n",
      "File \u001b[1;32m~\\anaconda3\\lib\\site-packages\\pkg_resources\\__init__.py:477\u001b[0m, in \u001b[0;36mget_distribution\u001b[1;34m(dist)\u001b[0m\n\u001b[0;32m    475\u001b[0m     dist \u001b[38;5;241m=\u001b[39m Requirement\u001b[38;5;241m.\u001b[39mparse(dist)\n\u001b[0;32m    476\u001b[0m \u001b[38;5;28;01mif\u001b[39;00m \u001b[38;5;28misinstance\u001b[39m(dist, Requirement):\n\u001b[1;32m--> 477\u001b[0m     dist \u001b[38;5;241m=\u001b[39m \u001b[43mget_provider\u001b[49m\u001b[43m(\u001b[49m\u001b[43mdist\u001b[49m\u001b[43m)\u001b[49m\n\u001b[0;32m    478\u001b[0m \u001b[38;5;28;01mif\u001b[39;00m \u001b[38;5;129;01mnot\u001b[39;00m \u001b[38;5;28misinstance\u001b[39m(dist, Distribution):\n\u001b[0;32m    479\u001b[0m     \u001b[38;5;28;01mraise\u001b[39;00m \u001b[38;5;167;01mTypeError\u001b[39;00m(\u001b[38;5;124m\"\u001b[39m\u001b[38;5;124mExpected string, Requirement, or Distribution\u001b[39m\u001b[38;5;124m\"\u001b[39m, dist)\n",
      "File \u001b[1;32m~\\anaconda3\\lib\\site-packages\\pkg_resources\\__init__.py:353\u001b[0m, in \u001b[0;36mget_provider\u001b[1;34m(moduleOrReq)\u001b[0m\n\u001b[0;32m    351\u001b[0m \u001b[38;5;124;03m\"\"\"Return an IResourceProvider for the named module or requirement\"\"\"\u001b[39;00m\n\u001b[0;32m    352\u001b[0m \u001b[38;5;28;01mif\u001b[39;00m \u001b[38;5;28misinstance\u001b[39m(moduleOrReq, Requirement):\n\u001b[1;32m--> 353\u001b[0m     \u001b[38;5;28;01mreturn\u001b[39;00m working_set\u001b[38;5;241m.\u001b[39mfind(moduleOrReq) \u001b[38;5;129;01mor\u001b[39;00m \u001b[43mrequire\u001b[49m\u001b[43m(\u001b[49m\u001b[38;5;28;43mstr\u001b[39;49m\u001b[43m(\u001b[49m\u001b[43mmoduleOrReq\u001b[49m\u001b[43m)\u001b[49m\u001b[43m)\u001b[49m[\u001b[38;5;241m0\u001b[39m]\n\u001b[0;32m    354\u001b[0m \u001b[38;5;28;01mtry\u001b[39;00m:\n\u001b[0;32m    355\u001b[0m     module \u001b[38;5;241m=\u001b[39m sys\u001b[38;5;241m.\u001b[39mmodules[moduleOrReq]\n",
      "File \u001b[1;32m~\\anaconda3\\lib\\site-packages\\pkg_resources\\__init__.py:897\u001b[0m, in \u001b[0;36mWorkingSet.require\u001b[1;34m(self, *requirements)\u001b[0m\n\u001b[0;32m    888\u001b[0m \u001b[38;5;28;01mdef\u001b[39;00m \u001b[38;5;21mrequire\u001b[39m(\u001b[38;5;28mself\u001b[39m, \u001b[38;5;241m*\u001b[39mrequirements):\n\u001b[0;32m    889\u001b[0m     \u001b[38;5;124;03m\"\"\"Ensure that distributions matching `requirements` are activated\u001b[39;00m\n\u001b[0;32m    890\u001b[0m \n\u001b[0;32m    891\u001b[0m \u001b[38;5;124;03m    `requirements` must be a string or a (possibly-nested) sequence\u001b[39;00m\n\u001b[1;32m   (...)\u001b[0m\n\u001b[0;32m    895\u001b[0m \u001b[38;5;124;03m    included, even if they were already activated in this working set.\u001b[39;00m\n\u001b[0;32m    896\u001b[0m \u001b[38;5;124;03m    \"\"\"\u001b[39;00m\n\u001b[1;32m--> 897\u001b[0m     needed \u001b[38;5;241m=\u001b[39m \u001b[38;5;28;43mself\u001b[39;49m\u001b[38;5;241;43m.\u001b[39;49m\u001b[43mresolve\u001b[49m\u001b[43m(\u001b[49m\u001b[43mparse_requirements\u001b[49m\u001b[43m(\u001b[49m\u001b[43mrequirements\u001b[49m\u001b[43m)\u001b[49m\u001b[43m)\u001b[49m\n\u001b[0;32m    899\u001b[0m     \u001b[38;5;28;01mfor\u001b[39;00m dist \u001b[38;5;129;01min\u001b[39;00m needed:\n\u001b[0;32m    900\u001b[0m         \u001b[38;5;28mself\u001b[39m\u001b[38;5;241m.\u001b[39madd(dist)\n",
      "File \u001b[1;32m~\\anaconda3\\lib\\site-packages\\pkg_resources\\__init__.py:788\u001b[0m, in \u001b[0;36mWorkingSet.resolve\u001b[1;34m(self, requirements, env, installer, replace_conflicting, extras)\u001b[0m\n\u001b[0;32m    785\u001b[0m \u001b[38;5;28;01mif\u001b[39;00m dist \u001b[38;5;129;01mnot\u001b[39;00m \u001b[38;5;129;01min\u001b[39;00m req:\n\u001b[0;32m    786\u001b[0m     \u001b[38;5;66;03m# Oops, the \"best\" so far conflicts with a dependency\u001b[39;00m\n\u001b[0;32m    787\u001b[0m     dependent_req \u001b[38;5;241m=\u001b[39m required_by[req]\n\u001b[1;32m--> 788\u001b[0m     \u001b[38;5;28;01mraise\u001b[39;00m VersionConflict(dist, req)\u001b[38;5;241m.\u001b[39mwith_context(dependent_req)\n\u001b[0;32m    790\u001b[0m \u001b[38;5;66;03m# push the new requirements onto the stack\u001b[39;00m\n\u001b[0;32m    791\u001b[0m new_requirements \u001b[38;5;241m=\u001b[39m dist\u001b[38;5;241m.\u001b[39mrequires(req\u001b[38;5;241m.\u001b[39mextras)[::\u001b[38;5;241m-\u001b[39m\u001b[38;5;241m1\u001b[39m]\n",
      "\u001b[1;31mContextualVersionConflict\u001b[0m: (protobuf 3.19.1 (c:\\users\\admin\\anaconda3\\lib\\site-packages), Requirement.parse('protobuf>=4.21.6'), {'web3'})"
     ]
    }
   ],
   "source": [
    "import os\n",
    "import json\n",
    "from web3 import Web3\n",
    "from dotenv import load_dotenv"
   ]
  },
  {
   "cell_type": "code",
   "execution_count": null,
   "id": "3b8a050b",
   "metadata": {},
   "outputs": [],
   "source": [
    "\n",
    "#loading the contract add and the ABI \n",
    "load_dotenv()\n",
    "factory_add = os.getenv(\"factory\")\n",
    "\n",
    "with open(\"../build/contracts/Factory.json\",'r') as f:\n",
    "    data = json.loads(f.read())\n"
   ]
  },
  {
   "cell_type": "code",
   "execution_count": null,
   "id": "4e2a1258",
   "metadata": {},
   "outputs": [],
   "source": [
    "alchemy_url = \"https://polygon-mumbai.g.alchemy.com/v2/6pQg1mPZJXFmHCDGv-VElUDI-hfLoNFr\"\n",
    "    w3 = Web3(Web3.HTTPProvider(alchemy_url))\n",
    "    contract = w3.eth.contract(address=factory_add, abi=data['abi'])\n",
    "    result = contract.functions.getquestion(0).call()\n",
    "\n",
    "\n",
    "    \n",
    "    \n",
    "\n",
    "\n",
    "    # Print if web3 is successfully connected\n",
    "    return {\"result\":result} \n"
   ]
  }
 ],
 "metadata": {
  "kernelspec": {
   "display_name": "Python 3 (ipykernel)",
   "language": "python",
   "name": "python3"
  },
  "language_info": {
   "codemirror_mode": {
    "name": "ipython",
    "version": 3
   },
   "file_extension": ".py",
   "mimetype": "text/x-python",
   "name": "python",
   "nbconvert_exporter": "python",
   "pygments_lexer": "ipython3",
   "version": "3.9.12"
  }
 },
 "nbformat": 4,
 "nbformat_minor": 5
}
